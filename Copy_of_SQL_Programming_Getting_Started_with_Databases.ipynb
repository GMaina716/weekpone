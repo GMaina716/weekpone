{
  "nbformat": 4,
  "nbformat_minor": 0,
  "metadata": {
    "colab": {
      "name": "Copy of SQL Programming - Getting Started with Databases",
      "provenance": [],
      "collapsed_sections": [
        "_D8JbTh02GDA",
        "D6BU_C0d3dMo",
        "TjMtC5JN7ZoI",
        "oxISLcTfPSqn",
        "tsDIChSD7eZA",
        "LMP7zZY2dGuV",
        "ASFyzyDc9hth",
        "Xr_iw9O1gynX",
        "fbqK98Ve9qUw",
        "f20THWRqhJC-",
        "N5323tiC9u5B",
        "Lyy1XQCy_rIm",
        "018guVdKDwnu",
        "hK3Aff9bhkkE"
      ],
      "toc_visible": true
    },
    "kernelspec": {
      "name": "python3",
      "display_name": "Python 3"
    }
  },
  "cells": [
    {
      "cell_type": "markdown",
      "metadata": {
        "id": "tRHyN7N81xCS"
      },
      "source": [
        "<font color=\"green\">*To start working on this notebook, or any other notebook that we will use in the Moringa Data Science Course, we will need to save our own copy of it. We can do this by clicking File > Save a Copy in Drive. We will then be able to make edits to our own copy of this notebook.*</font> \n",
        "\n"
      ]
    },
    {
      "cell_type": "markdown",
      "metadata": {
        "id": "_brgSPnC2ClB"
      },
      "source": [
        "# SQL Programming - Getting Started with Databases"
      ]
    },
    {
      "cell_type": "markdown",
      "metadata": {
        "id": "_D8JbTh02GDA"
      },
      "source": [
        "## 1.1 Overview "
      ]
    },
    {
      "cell_type": "markdown",
      "metadata": {
        "id": "ueOY-njw3bzC"
      },
      "source": [
        "Structured Query Language (SQL) is the language that is used to store, manipulate and retrieve data from many databases. It is the standard language for many relational database management systems which are a type of databases used by organisations across the world. These type of relational database management systems are used to store data in tables and examples of such include SQLite, MySQL, Postgres, Oracle etc. \n",
        "\n",
        "During the Moringa DataScience Prep, we will learn about SQL since as Data Scientists, we may be required to interact with this data through the use of SQL.\n",
        "\n",
        "In this notebook, we will use SQL to learn how tables in databases are created. More specifically, we will learn how the structure of tables is defined which is critical in determining the quality of data. The better the structure, the easier it becomes to clean data."
      ]
    },
    {
      "cell_type": "markdown",
      "metadata": {
        "id": "D6BU_C0d3dMo"
      },
      "source": [
        "## 1.2 Connecting to our Database"
      ]
    },
    {
      "cell_type": "code",
      "metadata": {
        "id": "PDk968tq3v43",
        "colab": {
          "base_uri": "https://localhost:8080/",
          "height": 35
        },
        "outputId": "429c26eb-03a4-4533-b433-ebcebf76c384"
      },
      "source": [
        "# We will first load an sql extension into our environment\n",
        "# This extension will allow us to work with sql on Colaboratory\n",
        "#\n",
        "%load_ext sql\n",
        "\n",
        "# We will then connect to our in memory sqlite database\n",
        "# NB: This database will cease to exist as soon as the database connection is closed.\n",
        "# We will learn more about how databases are created later in prep.\n",
        "#\n",
        "%sql sqlite://"
      ],
      "execution_count": 1,
      "outputs": [
        {
          "output_type": "execute_result",
          "data": {
            "application/vnd.google.colaboratory.intrinsic+json": {
              "type": "string"
            },
            "text/plain": [
              "'Connected: @None'"
            ]
          },
          "metadata": {
            "tags": []
          },
          "execution_count": 1
        }
      ]
    },
    {
      "cell_type": "markdown",
      "metadata": {
        "id": "TjMtC5JN7ZoI"
      },
      "source": [
        "## 1.3 Creating a Table"
      ]
    },
    {
      "cell_type": "code",
      "metadata": {
        "id": "ee0bJxIKPQvK",
        "colab": {
          "base_uri": "https://localhost:8080/",
          "height": 95
        },
        "outputId": "f84b0004-cbe2-41ce-f5fd-b7966d9c3040"
      },
      "source": [
        "# Example 1\n",
        "# We will now define and create a table Classmates in our database (if it doesn't exist).\n",
        "# This table will have fields: PersonID, LastName, FirstName, Phone and Residence as shown below.\n",
        "# We will then fetch all records from the table.\n",
        "#\n",
        "%%sql \n",
        "CREATE TABLE if not exists Classmates (\n",
        "    PersonID, \n",
        "    LastName, \n",
        "    FirstName, \n",
        "    Phone, \n",
        "    Residence\n",
        "); \n",
        "\n",
        "SELECT * From Classmates;"
      ],
      "execution_count": 2,
      "outputs": [
        {
          "output_type": "stream",
          "text": [
            " * sqlite://\n",
            "Done.\n",
            "Done.\n"
          ],
          "name": "stdout"
        },
        {
          "output_type": "execute_result",
          "data": {
            "text/html": [
              "<table>\n",
              "    <thead>\n",
              "        <tr>\n",
              "            <th>PersonID</th>\n",
              "            <th>LastName</th>\n",
              "            <th>FirstName</th>\n",
              "            <th>Phone</th>\n",
              "            <th>Residence</th>\n",
              "        </tr>\n",
              "    </thead>\n",
              "    <tbody>\n",
              "    </tbody>\n",
              "</table>"
            ],
            "text/plain": [
              "[]"
            ]
          },
          "metadata": {
            "tags": []
          },
          "execution_count": 2
        }
      ]
    },
    {
      "cell_type": "code",
      "metadata": {
        "id": "a5-4ih-ea37Z",
        "colab": {
          "base_uri": "https://localhost:8080/",
          "height": 95
        },
        "outputId": "31b391bd-acb6-4513-cdfd-656ba2a2d6b8"
      },
      "source": [
        "# Example 2\n",
        "# In this example, we will create a table named Customers \n",
        "# with the columns Id, Name, Age, Address, Salary. \n",
        "# This kind of a table structure can be used by Sacco Management system.\n",
        "# Then later fetch all records in the table.\n",
        "# \n",
        "%%sql\n",
        "CREATE TABLE if not exists Customers(\n",
        "   Id,   \n",
        "   Name,  \n",
        "   Age,\n",
        "   Address,  \n",
        "   Salary\n",
        ");\n",
        "\n",
        "SELECT * From Customers;"
      ],
      "execution_count": 3,
      "outputs": [
        {
          "output_type": "stream",
          "text": [
            " * sqlite://\n",
            "Done.\n",
            "Done.\n"
          ],
          "name": "stdout"
        },
        {
          "output_type": "execute_result",
          "data": {
            "text/html": [
              "<table>\n",
              "    <thead>\n",
              "        <tr>\n",
              "            <th>Id</th>\n",
              "            <th>Name</th>\n",
              "            <th>Age</th>\n",
              "            <th>Address</th>\n",
              "            <th>Salary</th>\n",
              "        </tr>\n",
              "    </thead>\n",
              "    <tbody>\n",
              "    </tbody>\n",
              "</table>"
            ],
            "text/plain": [
              "[]"
            ]
          },
          "metadata": {
            "tags": []
          },
          "execution_count": 3
        }
      ]
    },
    {
      "cell_type": "code",
      "metadata": {
        "id": "0FmFgfaTbZO6",
        "colab": {
          "base_uri": "https://localhost:8080/",
          "height": 95
        },
        "outputId": "883a2429-3737-4a1d-ea43-dacb3636a32f"
      },
      "source": [
        "# Example 3\n",
        "# In this example, we will create a Students table for a student management system.\n",
        "# This will contain the following fields,\n",
        "# AdmissionsNo, FirstName, MiddleName, LastName, DateOfBirth and DateOfAdmission.\n",
        "# Then fetch all records from Students table.\n",
        "#\n",
        "%%sql\n",
        "CREATE TABLE if not exists Students(\n",
        "    AdmissionsNo,\n",
        "    FirstName,\n",
        "    MiddleName,\n",
        "    LastName,\n",
        "    DateOfBirth,\n",
        "    DateOfAdmission\n",
        ");\n",
        " \n",
        "SELECT * from Students;"
      ],
      "execution_count": 4,
      "outputs": [
        {
          "output_type": "stream",
          "text": [
            " * sqlite://\n",
            "Done.\n",
            "Done.\n"
          ],
          "name": "stdout"
        },
        {
          "output_type": "execute_result",
          "data": {
            "text/html": [
              "<table>\n",
              "    <thead>\n",
              "        <tr>\n",
              "            <th>AdmissionsNo</th>\n",
              "            <th>FirstName</th>\n",
              "            <th>MiddleName</th>\n",
              "            <th>LastName</th>\n",
              "            <th>DateOfBirth</th>\n",
              "            <th>DateOfAdmission</th>\n",
              "        </tr>\n",
              "    </thead>\n",
              "    <tbody>\n",
              "    </tbody>\n",
              "</table>"
            ],
            "text/plain": [
              "[]"
            ]
          },
          "metadata": {
            "tags": []
          },
          "execution_count": 4
        }
      ]
    },
    {
      "cell_type": "markdown",
      "metadata": {
        "id": "oxISLcTfPSqn"
      },
      "source": [
        "### <font color=\"green\"> 1.3 Challenges</font>"
      ]
    },
    {
      "cell_type": "code",
      "metadata": {
        "id": "SbRfVF-IPa7y",
        "colab": {
          "base_uri": "https://localhost:8080/",
          "height": 95
        },
        "outputId": "52ec15ad-2475-4b9b-d6e2-3f51e6a74769"
      },
      "source": [
        "# Challenge 1\n",
        "# Let us create a table name PC with the following fields; \n",
        "# Code, model, speed, RAM, HD, CD and Price.\n",
        "# We also specify the appropriate data types to our table, then display it.\n",
        "#\n",
        "%%sql\n",
        "CREATE TABLE if not EXISTS PC(\n",
        "    Code,\n",
        "    Model,\n",
        "    Speed,\n",
        "    RAM,\n",
        "    HD,\n",
        "    CD,\n",
        "    Price\n",
        ");\n",
        "\n",
        "SELECT * FROM PC;"
      ],
      "execution_count": 5,
      "outputs": [
        {
          "output_type": "stream",
          "text": [
            " * sqlite://\n",
            "Done.\n",
            "Done.\n"
          ],
          "name": "stdout"
        },
        {
          "output_type": "execute_result",
          "data": {
            "text/html": [
              "<table>\n",
              "    <thead>\n",
              "        <tr>\n",
              "            <th>Code</th>\n",
              "            <th>Model</th>\n",
              "            <th>Speed</th>\n",
              "            <th>RAM</th>\n",
              "            <th>HD</th>\n",
              "            <th>CD</th>\n",
              "            <th>Price</th>\n",
              "        </tr>\n",
              "    </thead>\n",
              "    <tbody>\n",
              "    </tbody>\n",
              "</table>"
            ],
            "text/plain": [
              "[]"
            ]
          },
          "metadata": {
            "tags": []
          },
          "execution_count": 5
        }
      ]
    },
    {
      "cell_type": "code",
      "metadata": {
        "id": "raslfjbEPa6h",
        "colab": {
          "base_uri": "https://localhost:8080/",
          "height": 95
        },
        "outputId": "f5446d78-9d10-4632-d4d8-cb09940063fc"
      },
      "source": [
        "# Challenge 2\n",
        "# Let us create a table named Printer with \n",
        "# the following code, model, speed, type and Price.\n",
        "#\n",
        "%%sql\n",
        "CREATE TABLE Printer(\n",
        "    Model,\n",
        "    Speed,\n",
        "    type,\n",
        "    Price\n",
        ");\n",
        "\n",
        "SELECT * FROM Printer;"
      ],
      "execution_count": 6,
      "outputs": [
        {
          "output_type": "stream",
          "text": [
            " * sqlite://\n",
            "Done.\n",
            "Done.\n"
          ],
          "name": "stdout"
        },
        {
          "output_type": "execute_result",
          "data": {
            "text/html": [
              "<table>\n",
              "    <thead>\n",
              "        <tr>\n",
              "            <th>Model</th>\n",
              "            <th>Speed</th>\n",
              "            <th>type</th>\n",
              "            <th>Price</th>\n",
              "        </tr>\n",
              "    </thead>\n",
              "    <tbody>\n",
              "    </tbody>\n",
              "</table>"
            ],
            "text/plain": [
              "[]"
            ]
          },
          "metadata": {
            "tags": []
          },
          "execution_count": 6
        }
      ]
    },
    {
      "cell_type": "code",
      "metadata": {
        "id": "mJd7ytpJPav_",
        "colab": {
          "base_uri": "https://localhost:8080/",
          "height": 95
        },
        "outputId": "db342800-406a-4bf8-905e-ef850c2bf2b7"
      },
      "source": [
        "# Challenge 3\n",
        "# We can now write another table called Movies with the columns \n",
        "# id, title, director, year and length_minutes\n",
        "# \n",
        "%%sql\n",
        "CREATE TABLE if not EXISTS Movies(\n",
        "    id,\n",
        "    title,\n",
        "    director,\n",
        "    year,\n",
        "    length_minutes\n",
        ");\n",
        "\n",
        "SELECT * FROM Movies;"
      ],
      "execution_count": 7,
      "outputs": [
        {
          "output_type": "stream",
          "text": [
            " * sqlite://\n",
            "Done.\n",
            "Done.\n"
          ],
          "name": "stdout"
        },
        {
          "output_type": "execute_result",
          "data": {
            "text/html": [
              "<table>\n",
              "    <thead>\n",
              "        <tr>\n",
              "            <th>id</th>\n",
              "            <th>title</th>\n",
              "            <th>director</th>\n",
              "            <th>year</th>\n",
              "            <th>length_minutes</th>\n",
              "        </tr>\n",
              "    </thead>\n",
              "    <tbody>\n",
              "    </tbody>\n",
              "</table>"
            ],
            "text/plain": [
              "[]"
            ]
          },
          "metadata": {
            "tags": []
          },
          "execution_count": 7
        }
      ]
    },
    {
      "cell_type": "markdown",
      "metadata": {
        "id": "tsDIChSD7eZA"
      },
      "source": [
        "## 1.4 Specifying Column Data Types"
      ]
    },
    {
      "cell_type": "code",
      "metadata": {
        "id": "LR9UX1XnbPEJ",
        "colab": {
          "base_uri": "https://localhost:8080/",
          "height": 95
        },
        "outputId": "55bb6b9e-e8f2-4807-a82f-c1b8f901e69c"
      },
      "source": [
        "# Example 1\n",
        "# While defining our table, we should specify different data types. \n",
        "# These datatypes will ensure that the particular column stores only\n",
        "# records of that type i.e. The NationalID column in the defined Citizens table \n",
        "# below will only take integer values. These are values between  -2,147,483,648 to 2,147,483,647.\n",
        "# If one would require to store much smaller or bigger values than the range above then\n",
        "# they can use a different datatype i.e. tinyint or bigint.\n",
        "# The datatype varchar will hold letters and numbers upto the specified limit\n",
        "# in the brackets.\n",
        "#\n",
        "%%sql\n",
        "CREATE TABLE IF NOT EXISTS Citizens (\n",
        "    NationalID int,\n",
        "    FirstName varchar(255),\n",
        "    MiddleName varchar(255),\n",
        "    PostalAddress varchar(255),\n",
        "    Residence varchar(255));\n",
        "SELECT * from Citizens;"
      ],
      "execution_count": 8,
      "outputs": [
        {
          "output_type": "stream",
          "text": [
            " * sqlite://\n",
            "Done.\n",
            "Done.\n"
          ],
          "name": "stdout"
        },
        {
          "output_type": "execute_result",
          "data": {
            "text/html": [
              "<table>\n",
              "    <thead>\n",
              "        <tr>\n",
              "            <th>NationalID</th>\n",
              "            <th>FirstName</th>\n",
              "            <th>MiddleName</th>\n",
              "            <th>PostalAddress</th>\n",
              "            <th>Residence</th>\n",
              "        </tr>\n",
              "    </thead>\n",
              "    <tbody>\n",
              "    </tbody>\n",
              "</table>"
            ],
            "text/plain": [
              "[]"
            ]
          },
          "metadata": {
            "tags": []
          },
          "execution_count": 8
        }
      ]
    },
    {
      "cell_type": "code",
      "metadata": {
        "id": "xD0OhRTmdFW5",
        "colab": {
          "base_uri": "https://localhost:8080/",
          "height": 95
        },
        "outputId": "e2935a8f-2b8a-4432-a4a7-72fb02612957"
      },
      "source": [
        "# Example 2\n",
        "# Specifying column data types will ensure that \n",
        "# the data that is stored within that table of the correct type.\n",
        "# The data type date would ensure that the data stored is in the format YYYY-MM-DD.\t\n",
        "# The data type boolean supports the storage of two values: TRUE or FALSE.\n",
        "# No other data of a different nature would be accepted to the table \n",
        "# than the one it was specified to have.\n",
        "#\n",
        "%%sql\n",
        "CREATE TABLE IF NOT EXISTS artists(\n",
        "    Artist_Id int,\n",
        "    Artist_Name varchar(60),\n",
        "    Artist_DOB date,\n",
        "    Posters_In_Stock boolean);\n",
        "\n",
        "SELECT * from artists;"
      ],
      "execution_count": 9,
      "outputs": [
        {
          "output_type": "stream",
          "text": [
            " * sqlite://\n",
            "Done.\n",
            "Done.\n"
          ],
          "name": "stdout"
        },
        {
          "output_type": "execute_result",
          "data": {
            "text/html": [
              "<table>\n",
              "    <thead>\n",
              "        <tr>\n",
              "            <th>Artist_Id</th>\n",
              "            <th>Artist_Name</th>\n",
              "            <th>Artist_DOB</th>\n",
              "            <th>Posters_In_Stock</th>\n",
              "        </tr>\n",
              "    </thead>\n",
              "    <tbody>\n",
              "    </tbody>\n",
              "</table>"
            ],
            "text/plain": [
              "[]"
            ]
          },
          "metadata": {
            "tags": []
          },
          "execution_count": 9
        }
      ]
    },
    {
      "cell_type": "code",
      "metadata": {
        "id": "FOWSIAvGZpE-",
        "colab": {
          "base_uri": "https://localhost:8080/",
          "height": 95
        },
        "outputId": "582dc55b-d56f-468c-a8c3-488de7f087a8"
      },
      "source": [
        "# Example 3\n",
        "# The data type text accepts upto 2,147,483,647 characters\n",
        "# The data type float accepts floating point numbers i.e 183.3 as shown\n",
        "# \n",
        "%%sql\n",
        "CREATE TABLE IF NOT EXISTS Players (\n",
        "    id int,\n",
        "    name text,\n",
        "    age integer,\n",
        "    height float);\n",
        "\n",
        "SELECT * from Players;"
      ],
      "execution_count": 10,
      "outputs": [
        {
          "output_type": "stream",
          "text": [
            " * sqlite://\n",
            "Done.\n",
            "Done.\n"
          ],
          "name": "stdout"
        },
        {
          "output_type": "execute_result",
          "data": {
            "text/html": [
              "<table>\n",
              "    <thead>\n",
              "        <tr>\n",
              "            <th>id</th>\n",
              "            <th>name</th>\n",
              "            <th>age</th>\n",
              "            <th>height</th>\n",
              "        </tr>\n",
              "    </thead>\n",
              "    <tbody>\n",
              "    </tbody>\n",
              "</table>"
            ],
            "text/plain": [
              "[]"
            ]
          },
          "metadata": {
            "tags": []
          },
          "execution_count": 10
        }
      ]
    },
    {
      "cell_type": "markdown",
      "metadata": {
        "id": "LMP7zZY2dGuV"
      },
      "source": [
        "### <font color=\"green\"> 1.4 Challenges</font>"
      ]
    },
    {
      "cell_type": "code",
      "metadata": {
        "id": "8g9IjuQDdKP5",
        "colab": {
          "base_uri": "https://localhost:8080/",
          "height": 95
        },
        "outputId": "6e093ae7-28cb-45ec-bc77-a96ec7a1a8d2"
      },
      "source": [
        "# Challenge 1\n",
        "# Let's create a table customer with CustID with datatype Integer, LastName \n",
        "# with datatype character(25), FirstName with datatype Character(20)\n",
        "#\n",
        "%%sql\n",
        "CREATE TABLE if not EXISTS Customer(\n",
        "    CustID int,\n",
        "    LastName char(25),\n",
        "    FirstName char(20)\n",
        ");\n",
        "\n",
        "SELECT * FROM Customer"
      ],
      "execution_count": 11,
      "outputs": [
        {
          "output_type": "stream",
          "text": [
            " * sqlite://\n",
            "Done.\n",
            "Done.\n"
          ],
          "name": "stdout"
        },
        {
          "output_type": "execute_result",
          "data": {
            "text/html": [
              "<table>\n",
              "    <thead>\n",
              "        <tr>\n",
              "            <th>CustID</th>\n",
              "            <th>LastName</th>\n",
              "            <th>FirstName</th>\n",
              "        </tr>\n",
              "    </thead>\n",
              "    <tbody>\n",
              "    </tbody>\n",
              "</table>"
            ],
            "text/plain": [
              "[]"
            ]
          },
          "metadata": {
            "tags": []
          },
          "execution_count": 11
        }
      ]
    },
    {
      "cell_type": "code",
      "metadata": {
        "id": "mhbYzTUqgcT6",
        "colab": {
          "base_uri": "https://localhost:8080/",
          "height": 95
        },
        "outputId": "ff3b5a47-300a-41eb-9b6e-06b1b863d3ba"
      },
      "source": [
        "# Challenge 3\n",
        "# Create a table called sales that stores sales ID, customer ID, name, and address information.\n",
        "# using also the appropriate data types\n",
        "# \n",
        "%%sql\n",
        "CREATE TABLE if not EXISTS sales(\n",
        "    SalesID int,\n",
        "    customerID int,\n",
        "    customerName char (30),\n",
        "    address_information int\n",
        "\n",
        ");\n",
        "\n",
        "SELECT * FROM sales;"
      ],
      "execution_count": 12,
      "outputs": [
        {
          "output_type": "stream",
          "text": [
            " * sqlite://\n",
            "Done.\n",
            "Done.\n"
          ],
          "name": "stdout"
        },
        {
          "output_type": "execute_result",
          "data": {
            "text/html": [
              "<table>\n",
              "    <thead>\n",
              "        <tr>\n",
              "            <th>SalesID</th>\n",
              "            <th>customerID</th>\n",
              "            <th>customerName</th>\n",
              "            <th>address_information</th>\n",
              "        </tr>\n",
              "    </thead>\n",
              "    <tbody>\n",
              "    </tbody>\n",
              "</table>"
            ],
            "text/plain": [
              "[]"
            ]
          },
          "metadata": {
            "tags": []
          },
          "execution_count": 12
        }
      ]
    },
    {
      "cell_type": "code",
      "metadata": {
        "id": "dusTkcdWuv3E",
        "colab": {
          "base_uri": "https://localhost:8080/",
          "height": 95
        },
        "outputId": "8de3b8fc-6a5f-43a5-a6b7-b5408cfff064"
      },
      "source": [
        "# Challenge 4\n",
        "# Create a table called employees that stores employee number, employee name, \n",
        "# department, and salary information using appropriate data types\n",
        "#\n",
        "%%sql\n",
        "CREATE TABLE if not EXISTS employees(\n",
        "    employee_number int,\n",
        "    employee_name char(30),\n",
        "    department text,\n",
        "    salary_information varchar(200)\n",
        ");\n",
        "\n",
        "SELECT * FROM employees;"
      ],
      "execution_count": 13,
      "outputs": [
        {
          "output_type": "stream",
          "text": [
            " * sqlite://\n",
            "Done.\n",
            "Done.\n"
          ],
          "name": "stdout"
        },
        {
          "output_type": "execute_result",
          "data": {
            "text/html": [
              "<table>\n",
              "    <thead>\n",
              "        <tr>\n",
              "            <th>employee_number</th>\n",
              "            <th>employee_name</th>\n",
              "            <th>department</th>\n",
              "            <th>salary_information</th>\n",
              "        </tr>\n",
              "    </thead>\n",
              "    <tbody>\n",
              "    </tbody>\n",
              "</table>"
            ],
            "text/plain": [
              "[]"
            ]
          },
          "metadata": {
            "tags": []
          },
          "execution_count": 13
        }
      ]
    },
    {
      "cell_type": "markdown",
      "metadata": {
        "id": "ASFyzyDc9hth"
      },
      "source": [
        "## 1.5 Specifying Column Default Values"
      ]
    },
    {
      "cell_type": "code",
      "metadata": {
        "id": "mkNyTl37gfeM",
        "colab": {
          "base_uri": "https://localhost:8080/",
          "height": 113
        },
        "outputId": "8a9ce7f5-228f-498d-ac51-84a685661580"
      },
      "source": [
        "# Example 1\n",
        "# To specify column default values, let's define a table named artists \n",
        "# which contains three columns artist_id, artist_name and place_of_birth. \n",
        "# - artist_id will be of the type int\n",
        "# - artist_name of the type varchar(60) \n",
        "# - place_of_birth varchar(60) with default 'Unknown'.\n",
        "# NB: Changing the case of our data type definition will not have any effect.\n",
        "#\n",
        "%%sql \n",
        "DROP TABLE if EXISTS Artists;\n",
        "CREATE TABLE Artists (\n",
        "    artist_id INT, \n",
        "    artist_name VARCHAR(60), \n",
        "    place_of_birth VARCHAR(60)\n",
        ");\n",
        "\n",
        "SELECT * FROM Artists;"
      ],
      "execution_count": 14,
      "outputs": [
        {
          "output_type": "stream",
          "text": [
            " * sqlite://\n",
            "Done.\n",
            "Done.\n",
            "Done.\n"
          ],
          "name": "stdout"
        },
        {
          "output_type": "execute_result",
          "data": {
            "text/html": [
              "<table>\n",
              "    <thead>\n",
              "        <tr>\n",
              "            <th>artist_id</th>\n",
              "            <th>artist_name</th>\n",
              "            <th>place_of_birth</th>\n",
              "        </tr>\n",
              "    </thead>\n",
              "    <tbody>\n",
              "    </tbody>\n",
              "</table>"
            ],
            "text/plain": [
              "[]"
            ]
          },
          "metadata": {
            "tags": []
          },
          "execution_count": 14
        }
      ]
    },
    {
      "cell_type": "code",
      "metadata": {
        "id": "_ut68z0BgfW9",
        "colab": {
          "base_uri": "https://localhost:8080/",
          "height": 95
        },
        "outputId": "45a11f88-dd91-4a2c-d48b-a6acfc46f4fe"
      },
      "source": [
        "# Example 2\n",
        "# To specify default values for the fields in a new table TeamMembers,\n",
        "# We do the following as shown below.\n",
        "# \n",
        "#The PRIMARY KEY constraint uniquely identifies each record in a table\n",
        "%%sql\n",
        "CREATE TABLE IF NOT EXISTS TeamMembers (\n",
        "    id INTEGER PRIMARY KEY, \n",
        "    name TEXT,\n",
        "    age INTEGER DEFAULT 'Unknown',\n",
        "    height REAL\n",
        ");\n",
        "SELECT * FROM TeamMembers;"
      ],
      "execution_count": 15,
      "outputs": [
        {
          "output_type": "stream",
          "text": [
            " * sqlite://\n",
            "Done.\n",
            "Done.\n"
          ],
          "name": "stdout"
        },
        {
          "output_type": "execute_result",
          "data": {
            "text/html": [
              "<table>\n",
              "    <thead>\n",
              "        <tr>\n",
              "            <th>id</th>\n",
              "            <th>name</th>\n",
              "            <th>age</th>\n",
              "            <th>height</th>\n",
              "        </tr>\n",
              "    </thead>\n",
              "    <tbody>\n",
              "    </tbody>\n",
              "</table>"
            ],
            "text/plain": [
              "[]"
            ]
          },
          "metadata": {
            "tags": []
          },
          "execution_count": 15
        }
      ]
    },
    {
      "cell_type": "markdown",
      "metadata": {
        "id": "Xr_iw9O1gynX"
      },
      "source": [
        "### <font color=\"green\"> 1.5 Challenges</font>"
      ]
    },
    {
      "cell_type": "code",
      "metadata": {
        "id": "H0X577pGgxuY",
        "colab": {
          "base_uri": "https://localhost:8080/",
          "height": 95
        },
        "outputId": "e408a5af-d721-408b-de67-eea68791e485"
      },
      "source": [
        "# Challenge 1\n",
        "# Let's create a new table called latest_players with similar fields to\n",
        "# the already created Players table but specify the default value to unknown\n",
        "#\n",
        "\n",
        "%%sql\n",
        "CREATE TABLE if not EXISTS latest_palyers(\n",
        "    id int PRIMARY KEY,\n",
        "    name text DEFAULT 'unkown',\n",
        "    age int default 'unkown',\n",
        "    height float real\n",
        ");\n",
        "\n",
        "SELECT * FROM latest_palyers;"
      ],
      "execution_count": 16,
      "outputs": [
        {
          "output_type": "stream",
          "text": [
            " * sqlite://\n",
            "Done.\n",
            "Done.\n"
          ],
          "name": "stdout"
        },
        {
          "output_type": "execute_result",
          "data": {
            "text/html": [
              "<table>\n",
              "    <thead>\n",
              "        <tr>\n",
              "            <th>id</th>\n",
              "            <th>name</th>\n",
              "            <th>age</th>\n",
              "            <th>height</th>\n",
              "        </tr>\n",
              "    </thead>\n",
              "    <tbody>\n",
              "    </tbody>\n",
              "</table>"
            ],
            "text/plain": [
              "[]"
            ]
          },
          "metadata": {
            "tags": []
          },
          "execution_count": 16
        }
      ]
    },
    {
      "cell_type": "code",
      "metadata": {
        "id": "1LEzaO5ggpCt",
        "colab": {
          "base_uri": "https://localhost:8080/",
          "height": 95
        },
        "outputId": "f2e8ed62-8320-479e-f709-f3c779b0c456"
      },
      "source": [
        "# Challenge 2\n",
        "# Let's create a new table called restaurants with the fields\n",
        "# - name: string\n",
        "# - description: text \n",
        "# - address: string, default value is unknown\n",
        "# - user_id: integer\n",
        "# - last_orders_at: date\n",
        "# We can perform data type external research if need be\n",
        "#\n",
        "%%sql\n",
        "CREATE TABLE if not EXISTS restaurants(\n",
        "    name string,\n",
        "    description text,\n",
        "    address string DEFAULT 'Unknown',\n",
        "    user_id int,\n",
        "    last_order_at date\n",
        ");\n",
        "\n",
        "SELECT * FROM restaurants;"
      ],
      "execution_count": 17,
      "outputs": [
        {
          "output_type": "stream",
          "text": [
            " * sqlite://\n",
            "Done.\n",
            "Done.\n"
          ],
          "name": "stdout"
        },
        {
          "output_type": "execute_result",
          "data": {
            "text/html": [
              "<table>\n",
              "    <thead>\n",
              "        <tr>\n",
              "            <th>name</th>\n",
              "            <th>description</th>\n",
              "            <th>address</th>\n",
              "            <th>user_id</th>\n",
              "            <th>last_order_at</th>\n",
              "        </tr>\n",
              "    </thead>\n",
              "    <tbody>\n",
              "    </tbody>\n",
              "</table>"
            ],
            "text/plain": [
              "[]"
            ]
          },
          "metadata": {
            "tags": []
          },
          "execution_count": 17
        }
      ]
    },
    {
      "cell_type": "markdown",
      "metadata": {
        "id": "fbqK98Ve9qUw"
      },
      "source": [
        "## 1.6 Altering SQL Tables"
      ]
    },
    {
      "cell_type": "code",
      "metadata": {
        "id": "hX5YD-_dhEra",
        "colab": {
          "base_uri": "https://localhost:8080/",
          "height": 95
        },
        "outputId": "f93b85cb-f4b2-4e8a-fd61-321deff5157c"
      },
      "source": [
        "# Example 1: Adding a Column\n",
        "# To add a column Gender to the Classmates table, we do the following, \n",
        "# then preview the table to see the changes\n",
        "#\n",
        "%%sql \n",
        "ALTER TABLE Classmates ADD Gender;\n",
        " \n",
        "SELECT * FROM Classmates; "
      ],
      "execution_count": 18,
      "outputs": [
        {
          "output_type": "stream",
          "text": [
            " * sqlite://\n",
            "Done.\n",
            "Done.\n"
          ],
          "name": "stdout"
        },
        {
          "output_type": "execute_result",
          "data": {
            "text/html": [
              "<table>\n",
              "    <thead>\n",
              "        <tr>\n",
              "            <th>PersonID</th>\n",
              "            <th>LastName</th>\n",
              "            <th>FirstName</th>\n",
              "            <th>Phone</th>\n",
              "            <th>Residence</th>\n",
              "            <th>Gender</th>\n",
              "        </tr>\n",
              "    </thead>\n",
              "    <tbody>\n",
              "    </tbody>\n",
              "</table>"
            ],
            "text/plain": [
              "[]"
            ]
          },
          "metadata": {
            "tags": []
          },
          "execution_count": 18
        }
      ]
    },
    {
      "cell_type": "code",
      "metadata": {
        "id": "IGZSdFj2hGbP",
        "colab": {
          "base_uri": "https://localhost:8080/",
          "height": 95
        },
        "outputId": "1507b417-3976-4ab1-9940-579fe8855f91"
      },
      "source": [
        "# Example 2: Deleting a Column\n",
        "# To delete a column Phone in a table above we do the following,\n",
        "# Then fetch records from the table to confirm the changes\n",
        "#\n",
        "#from research, ALTER table Drop Column is not supported in sqlite\n",
        "#we therefore create a new table without the column that we want to drop\n",
        "%%sql \n",
        "CREATE TABLE if not EXISTS Classmates_1(\n",
        "    PersonID, \n",
        "    LastName, \n",
        "    FirstName, \n",
        "    Phone\n",
        "    \n",
        ");\n",
        "\n",
        "SELECT * FROM Classmates_1;"
      ],
      "execution_count": 19,
      "outputs": [
        {
          "output_type": "stream",
          "text": [
            " * sqlite://\n",
            "Done.\n",
            "Done.\n"
          ],
          "name": "stdout"
        },
        {
          "output_type": "execute_result",
          "data": {
            "text/html": [
              "<table>\n",
              "    <thead>\n",
              "        <tr>\n",
              "            <th>PersonID</th>\n",
              "            <th>LastName</th>\n",
              "            <th>FirstName</th>\n",
              "            <th>Phone</th>\n",
              "        </tr>\n",
              "    </thead>\n",
              "    <tbody>\n",
              "    </tbody>\n",
              "</table>"
            ],
            "text/plain": [
              "[]"
            ]
          },
          "metadata": {
            "tags": []
          },
          "execution_count": 19
        }
      ]
    },
    {
      "cell_type": "code",
      "metadata": {
        "id": "sHLkllxhhH3v",
        "colab": {
          "base_uri": "https://localhost:8080/",
          "height": 95
        },
        "outputId": "dddfff70-8a66-49f1-f5d9-91544839836c"
      },
      "source": [
        "# Example 3\n",
        "# We can change the name of the Classmates table to Schoolmates by doing the following,\n",
        "# Then fetching the records from the table to confirm the changes\n",
        "#\n",
        "%%sql  \n",
        "ALTER TABLE Classmates_1 RENAME TO Schoolmates;\n",
        "\n",
        "SELECT * FROM Schoolmates;"
      ],
      "execution_count": 20,
      "outputs": [
        {
          "output_type": "stream",
          "text": [
            " * sqlite://\n",
            "Done.\n",
            "Done.\n"
          ],
          "name": "stdout"
        },
        {
          "output_type": "execute_result",
          "data": {
            "text/html": [
              "<table>\n",
              "    <thead>\n",
              "        <tr>\n",
              "            <th>PersonID</th>\n",
              "            <th>LastName</th>\n",
              "            <th>FirstName</th>\n",
              "            <th>Phone</th>\n",
              "        </tr>\n",
              "    </thead>\n",
              "    <tbody>\n",
              "    </tbody>\n",
              "</table>"
            ],
            "text/plain": [
              "[]"
            ]
          },
          "metadata": {
            "tags": []
          },
          "execution_count": 20
        }
      ]
    },
    {
      "cell_type": "markdown",
      "metadata": {
        "id": "f20THWRqhJC-"
      },
      "source": [
        "### <font color=\"green\"> 1.6 Challenges</font>"
      ]
    },
    {
      "cell_type": "code",
      "metadata": {
        "id": "6Nrsden-hJ7u",
        "colab": {
          "base_uri": "https://localhost:8080/",
          "height": 95
        },
        "outputId": "8f0b75bb-38d8-464a-960b-e10328eea82a"
      },
      "source": [
        "# Challenge 1\n",
        "# We can add a column DOB with the data type DATE to the TeamMembers table by;\n",
        "# Hint: The data type comes after the column name\n",
        "#\n",
        "%%sql\n",
        "ALTER TABLE TeamMembers ADD DOB date;\n",
        "\n",
        "SELECT * FROM TeamMembers;"
      ],
      "execution_count": 21,
      "outputs": [
        {
          "output_type": "stream",
          "text": [
            " * sqlite://\n",
            "Done.\n",
            "Done.\n"
          ],
          "name": "stdout"
        },
        {
          "output_type": "execute_result",
          "data": {
            "text/html": [
              "<table>\n",
              "    <thead>\n",
              "        <tr>\n",
              "            <th>id</th>\n",
              "            <th>name</th>\n",
              "            <th>age</th>\n",
              "            <th>height</th>\n",
              "            <th>DOB</th>\n",
              "        </tr>\n",
              "    </thead>\n",
              "    <tbody>\n",
              "    </tbody>\n",
              "</table>"
            ],
            "text/plain": [
              "[]"
            ]
          },
          "metadata": {
            "tags": []
          },
          "execution_count": 21
        }
      ]
    },
    {
      "cell_type": "code",
      "metadata": {
        "id": "2hwkJkSNlIyd",
        "colab": {
          "base_uri": "https://localhost:8080/",
          "height": 181
        },
        "outputId": "f6501ff2-55f9-4995-fbc3-7323c97b0c05"
      },
      "source": [
        "# Example 4: Confirmation\n",
        "# Let's check our data type\n",
        "%%sql\n",
        "PRAGMA table_info(TeamMembers);"
      ],
      "execution_count": 22,
      "outputs": [
        {
          "output_type": "stream",
          "text": [
            " * sqlite://\n",
            "Done.\n"
          ],
          "name": "stdout"
        },
        {
          "output_type": "execute_result",
          "data": {
            "text/html": [
              "<table>\n",
              "    <thead>\n",
              "        <tr>\n",
              "            <th>cid</th>\n",
              "            <th>name</th>\n",
              "            <th>type</th>\n",
              "            <th>notnull</th>\n",
              "            <th>dflt_value</th>\n",
              "            <th>pk</th>\n",
              "        </tr>\n",
              "    </thead>\n",
              "    <tbody>\n",
              "        <tr>\n",
              "            <td>0</td>\n",
              "            <td>id</td>\n",
              "            <td>INTEGER</td>\n",
              "            <td>0</td>\n",
              "            <td>None</td>\n",
              "            <td>1</td>\n",
              "        </tr>\n",
              "        <tr>\n",
              "            <td>1</td>\n",
              "            <td>name</td>\n",
              "            <td>TEXT</td>\n",
              "            <td>0</td>\n",
              "            <td>None</td>\n",
              "            <td>0</td>\n",
              "        </tr>\n",
              "        <tr>\n",
              "            <td>2</td>\n",
              "            <td>age</td>\n",
              "            <td>INTEGER</td>\n",
              "            <td>0</td>\n",
              "            <td>&#x27;Unknown&#x27;</td>\n",
              "            <td>0</td>\n",
              "        </tr>\n",
              "        <tr>\n",
              "            <td>3</td>\n",
              "            <td>height</td>\n",
              "            <td>REAL</td>\n",
              "            <td>0</td>\n",
              "            <td>None</td>\n",
              "            <td>0</td>\n",
              "        </tr>\n",
              "        <tr>\n",
              "            <td>4</td>\n",
              "            <td>DOB</td>\n",
              "            <td>date</td>\n",
              "            <td>0</td>\n",
              "            <td>None</td>\n",
              "            <td>0</td>\n",
              "        </tr>\n",
              "    </tbody>\n",
              "</table>"
            ],
            "text/plain": [
              "[(0, 'id', 'INTEGER', 0, None, 1),\n",
              " (1, 'name', 'TEXT', 0, None, 0),\n",
              " (2, 'age', 'INTEGER', 0, \"'Unknown'\", 0),\n",
              " (3, 'height', 'REAL', 0, None, 0),\n",
              " (4, 'DOB', 'date', 0, None, 0)]"
            ]
          },
          "metadata": {
            "tags": []
          },
          "execution_count": 22
        }
      ]
    },
    {
      "cell_type": "code",
      "metadata": {
        "id": "iLNLtWBFhLCS",
        "colab": {
          "base_uri": "https://localhost:8080/",
          "height": 95
        },
        "outputId": "704a9e2f-f165-41ee-db48-dd22832a6659"
      },
      "source": [
        "# Challenge 2\n",
        "# Let's now add a column STUDIO with the data type TEXT to the Artists table \n",
        "#\n",
        "%%sql\n",
        "ALTER TABLE Artists ADD STUDIO Text;\n",
        "SELECT * FROM Artists;"
      ],
      "execution_count": 23,
      "outputs": [
        {
          "output_type": "stream",
          "text": [
            " * sqlite://\n",
            "Done.\n",
            "Done.\n"
          ],
          "name": "stdout"
        },
        {
          "output_type": "execute_result",
          "data": {
            "text/html": [
              "<table>\n",
              "    <thead>\n",
              "        <tr>\n",
              "            <th>artist_id</th>\n",
              "            <th>artist_name</th>\n",
              "            <th>place_of_birth</th>\n",
              "            <th>STUDIO</th>\n",
              "        </tr>\n",
              "    </thead>\n",
              "    <tbody>\n",
              "    </tbody>\n",
              "</table>"
            ],
            "text/plain": [
              "[]"
            ]
          },
          "metadata": {
            "tags": []
          },
          "execution_count": 23
        }
      ]
    },
    {
      "cell_type": "code",
      "metadata": {
        "id": "16L-Ex_ehKzt",
        "colab": {
          "base_uri": "https://localhost:8080/",
          "height": 95
        },
        "outputId": "18fca71a-b732-47a6-e058-ea6784d58e90"
      },
      "source": [
        "# Challenge 3\n",
        "# We then rename the table Artists to MusicArtists\n",
        "#\n",
        "%%sql\n",
        "ALTER TABLE Artists RENAME TO MusicArtists;\n",
        "SELECT * FROM MusicArtists;\n"
      ],
      "execution_count": 24,
      "outputs": [
        {
          "output_type": "stream",
          "text": [
            " * sqlite://\n",
            "Done.\n",
            "Done.\n"
          ],
          "name": "stdout"
        },
        {
          "output_type": "execute_result",
          "data": {
            "text/html": [
              "<table>\n",
              "    <thead>\n",
              "        <tr>\n",
              "            <th>artist_id</th>\n",
              "            <th>artist_name</th>\n",
              "            <th>place_of_birth</th>\n",
              "            <th>STUDIO</th>\n",
              "        </tr>\n",
              "    </thead>\n",
              "    <tbody>\n",
              "    </tbody>\n",
              "</table>"
            ],
            "text/plain": [
              "[]"
            ]
          },
          "metadata": {
            "tags": []
          },
          "execution_count": 24
        }
      ]
    },
    {
      "cell_type": "markdown",
      "metadata": {
        "id": "N5323tiC9u5B"
      },
      "source": [
        "## 1.7 Dropping SQL Tables"
      ]
    },
    {
      "cell_type": "code",
      "metadata": {
        "colab": {
          "base_uri": "https://localhost:8080/",
          "height": 160
        },
        "id": "5wGqasFc0aI7",
        "outputId": "19eb9c47-3e70-43ac-e979-bb7b636bae1d"
      },
      "source": [
        "%%sql\n",
        "PRAGMA table_info(Schoolmates)"
      ],
      "execution_count": 25,
      "outputs": [
        {
          "output_type": "stream",
          "text": [
            " * sqlite://\n",
            "Done.\n"
          ],
          "name": "stdout"
        },
        {
          "output_type": "execute_result",
          "data": {
            "text/html": [
              "<table>\n",
              "    <thead>\n",
              "        <tr>\n",
              "            <th>cid</th>\n",
              "            <th>name</th>\n",
              "            <th>type</th>\n",
              "            <th>notnull</th>\n",
              "            <th>dflt_value</th>\n",
              "            <th>pk</th>\n",
              "        </tr>\n",
              "    </thead>\n",
              "    <tbody>\n",
              "        <tr>\n",
              "            <td>0</td>\n",
              "            <td>PersonID</td>\n",
              "            <td></td>\n",
              "            <td>0</td>\n",
              "            <td>None</td>\n",
              "            <td>0</td>\n",
              "        </tr>\n",
              "        <tr>\n",
              "            <td>1</td>\n",
              "            <td>LastName</td>\n",
              "            <td></td>\n",
              "            <td>0</td>\n",
              "            <td>None</td>\n",
              "            <td>0</td>\n",
              "        </tr>\n",
              "        <tr>\n",
              "            <td>2</td>\n",
              "            <td>FirstName</td>\n",
              "            <td></td>\n",
              "            <td>0</td>\n",
              "            <td>None</td>\n",
              "            <td>0</td>\n",
              "        </tr>\n",
              "        <tr>\n",
              "            <td>3</td>\n",
              "            <td>Phone</td>\n",
              "            <td></td>\n",
              "            <td>0</td>\n",
              "            <td>None</td>\n",
              "            <td>0</td>\n",
              "        </tr>\n",
              "    </tbody>\n",
              "</table>"
            ],
            "text/plain": [
              "[(0, 'PersonID', '', 0, None, 0),\n",
              " (1, 'LastName', '', 0, None, 0),\n",
              " (2, 'FirstName', '', 0, None, 0),\n",
              " (3, 'Phone', '', 0, None, 0)]"
            ]
          },
          "metadata": {
            "tags": []
          },
          "execution_count": 25
        }
      ]
    },
    {
      "cell_type": "markdown",
      "metadata": {
        "id": "Lyy1XQCy_rIm"
      },
      "source": [
        "### 1.71 Truncating a Table\n"
      ]
    },
    {
      "cell_type": "code",
      "metadata": {
        "id": "EF5WdMH1hj-8",
        "colab": {
          "base_uri": "https://localhost:8080/",
          "height": 113
        },
        "outputId": "1798ebfe-5aba-4710-d117-5606b06c4950"
      },
      "source": [
        "# Example 1\n",
        "# We may have two options while thinking about dropping (deleting) database tables. \n",
        "# These are truncating or dropping.\n",
        "# We can use the TRUNCATE TABLE statement to delete the data inside \n",
        "# our table as shown below. Do note that this command retains the table itself.\n",
        "# We will get to confirm the effect of using this command later when we get \n",
        "# to insert data to the table.\n",
        "#To truncate a table in SQLite, you just need to execute a DELETE statement without a WHERE clause\n",
        "\n",
        "%%sql\n",
        "DELETE FROM Schoolmates;\n",
        "VACUUM;\n",
        "\n",
        "SELECT * FROM Schoolmates;"
      ],
      "execution_count": 26,
      "outputs": [
        {
          "output_type": "stream",
          "text": [
            " * sqlite://\n",
            "0 rows affected.\n",
            "Done.\n",
            "Done.\n"
          ],
          "name": "stdout"
        },
        {
          "output_type": "execute_result",
          "data": {
            "text/html": [
              "<table>\n",
              "    <thead>\n",
              "        <tr>\n",
              "            <th>PersonID</th>\n",
              "            <th>LastName</th>\n",
              "            <th>FirstName</th>\n",
              "            <th>Phone</th>\n",
              "        </tr>\n",
              "    </thead>\n",
              "    <tbody>\n",
              "    </tbody>\n",
              "</table>"
            ],
            "text/plain": [
              "[]"
            ]
          },
          "metadata": {
            "tags": []
          },
          "execution_count": 26
        }
      ]
    },
    {
      "cell_type": "markdown",
      "metadata": {
        "id": "018guVdKDwnu"
      },
      "source": [
        "### 1.72 Dropping a Table"
      ]
    },
    {
      "cell_type": "code",
      "metadata": {
        "id": "IBP2xlN4Dz8H",
        "colab": {
          "base_uri": "https://localhost:8080/"
        },
        "outputId": "aea75461-36b0-4377-9e01-eb06129f4f03"
      },
      "source": [
        "# Example 1\n",
        "# We can drop our table by using the DROP TABLE statement as shown below\n",
        "#\n",
        "%%sql \n",
        "DROP TABLE Schoolmates;\n",
        "\n",
        "SELECT * FROM Schoolmates;\n",
        "#we get an error since we are trying to acess a table that is not in our database"
      ],
      "execution_count": 27,
      "outputs": [
        {
          "output_type": "stream",
          "text": [
            " * sqlite://\n",
            "Done.\n",
            "(sqlite3.OperationalError) no such table: Schoolmates\n",
            "[SQL: SELECT * FROM Schoolmates;]\n",
            "(Background on this error at: http://sqlalche.me/e/14/e3q8)\n"
          ],
          "name": "stdout"
        }
      ]
    },
    {
      "cell_type": "markdown",
      "metadata": {
        "id": "hK3Aff9bhkkE"
      },
      "source": [
        "### <font color=\"green\"> 1.7 Challenges</font>"
      ]
    },
    {
      "cell_type": "code",
      "metadata": {
        "id": "OhTHowBAhmF_",
        "cellView": "both",
        "colab": {
          "base_uri": "https://localhost:8080/"
        },
        "outputId": "b2908cf4-9e75-4f12-e7eb-232472c6c867"
      },
      "source": [
        "# Challenge 1\n",
        "# Lets drop the Players table from our database\n",
        "#\n",
        "%%sql\n",
        "DROP TABLE \"latest_palyers\";\n",
        "\n",
        "SELECT * FROM latest_palyers; \n",
        "##we get an error since we are tring to acess a table that is not in our database"
      ],
      "execution_count": 28,
      "outputs": [
        {
          "output_type": "stream",
          "text": [
            " * sqlite://\n",
            "Done.\n",
            "(sqlite3.OperationalError) no such table: latest_palyers\n",
            "[SQL: SELECT * FROM latest_palyers;]\n",
            "(Background on this error at: http://sqlalche.me/e/14/e3q8)\n"
          ],
          "name": "stdout"
        }
      ]
    },
    {
      "cell_type": "code",
      "metadata": {
        "id": "TupkeQYohmc9",
        "colab": {
          "base_uri": "https://localhost:8080/"
        },
        "outputId": "a6baf15f-120b-4f29-9d3e-5548353723a5"
      },
      "source": [
        "# Challenge 2\n",
        "# Lets drop the Customers table from our database \n",
        "#\n",
        "%%sql\n",
        "DROP TABLE Customer;\n",
        "\n",
        "SELECT * FROM Customer;\n",
        " we get an error since we are tring to access a table that is not in our database \n"
      ],
      "execution_count": 29,
      "outputs": [
        {
          "output_type": "stream",
          "text": [
            " * sqlite://\n",
            "Done.\n",
            "(sqlite3.OperationalError) no such table: Customer\n",
            "[SQL: SELECT * FROM Customer;]\n",
            "(Background on this error at: http://sqlalche.me/e/14/e3q8)\n"
          ],
          "name": "stdout"
        }
      ]
    },
    {
      "cell_type": "code",
      "metadata": {
        "id": "5JA8Kr56hmPr",
        "colab": {
          "base_uri": "https://localhost:8080/"
        },
        "outputId": "160240c9-ee50-444c-bcaa-603712bd3bf2"
      },
      "source": [
        "# Challenge 3\n",
        "# And finally truncate and drop our Artists table from our database\n",
        "#\n",
        "%%sql\n",
        "DROP TABLE MusicArtists;\n",
        "SELECT * FROM MusicArtists;"
      ],
      "execution_count": 30,
      "outputs": [
        {
          "output_type": "stream",
          "text": [
            " * sqlite://\n",
            "Done.\n",
            "(sqlite3.OperationalError) no such table: MusicArtists\n",
            "[SQL: SELECT * FROM MusicArtists;]\n",
            "(Background on this error at: http://sqlalche.me/e/14/e3q8)\n"
          ],
          "name": "stdout"
        }
      ]
    },
    {
      "cell_type": "code",
      "metadata": {
        "id": "DtYsVFi8Gj_u"
      },
      "source": [
        ""
      ],
      "execution_count": 30,
      "outputs": []
    }
  ]
}